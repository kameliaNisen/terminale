{
 "cells": [
  {
   "cell_type": "markdown",
   "metadata": {},
   "source": [
    "   # <div align=\"center\">Enigma v2.0</div>"
   ]
  },
  {
   "cell_type": "markdown",
   "metadata": {},
   "source": [
    "La machine Enigma est la fameuse machine de cryptage qu’utilisait l’armée allemande pendant la seconde guerre mondiale.<br>\n",
    "![img](img/Enigma.jpg)"
   ]
  },
  {
   "cell_type": "markdown",
   "metadata": {},
   "source": [
    "Elle automatise le chiffrement par substitution. \n",
    "Comme on peut le voir ci-dessus, cette machine ressemble à une machine à écrire.<br>\n",
    "Quand on presse sur une touche, deux choses se passent. <br> \n",
    "\n",
    "   * Premièrement, une lettre s'allume sur un panneau lumineux: c'est la lettre chiffrée. \n",
    "   * Deuxièmement, un mécanisme fait tourner le rotor de droite d'un cran; \n",
    " \n",
    "Toutes les 26 frappes, le deuxième rotor tourne d'un cran, toutes les 676 frappes (26 au carré), c'est le troisième rotor qui tourne d'un cran. \n",
    "<br>Certaines Enigmas avaient 3 rotors, celles de la Kriegsmarine en avaient 4 ou 5.<br>\n",
    "Ces rotors tournants modifient les connexions électriques dans la machine, ce qui fait que la touche \"A\" allumera peut-être le \"B\" la première fois, mais le \"X\" la deuxième, le \"E\" la troisième, etc. <br>\n",
    "Un \"tableau de connexions\" et un \"réflecteur\" complique encore le système. Le côté génial de cette machine est que même si elle tombe entre les mains ennemies, sa sécurité n'est pas compromise.<br>\n",
    "En effet, c'est le nombre faramineux de réglages de la machine qui fait sa force et les réglages changeaient évidemment chaque jour. On peut en effet changer l'ordre des rotors, leur orientation initiale et les branchement du tableau de connexions."
   ]
  },
  {
   "cell_type": "markdown",
   "metadata": {},
   "source": [
    "![img](img/enigma1.jpg)"
   ]
  },
  {
   "cell_type": "markdown",
   "metadata": {},
   "source": [
    "Si on frappe la lettre b sur le clavier, un courant électrique est envoyé dans le rotor, suit la câblage interne, puis ressort à droite pour allumer la lettre A sur le tableau lumineux.<br>\n",
    "b est donc chiffré en A. Idem pour les cinq autres lettres: a devient B, b devient A, c devient D, d devient F, e devient E et f devient C.<br>\n",
    "Autre principe de base: chaque fois qu'une lettre est tapée au clavier, le rotor tourne d'un cran. Ainsi, b devient A la première fois, mais b devient C la deuxième fois (voir schéma 2, à droite), puis b devient E, etc."
   ]
  },
  {
   "cell_type": "markdown",
   "metadata": {},
   "source": [
    "![img](img/enigma2.jpg)"
   ]
  },
  {
   "cell_type": "markdown",
   "metadata": {},
   "source": [
    "Dans notre exemple le mot bac est chiffré ADD (et non ABD si le rotor était resté immobile).<br>\n",
    "Pour augmenter le nombre de combinaisons possibles, et déjouer les tentatives des cryptanalystes, Scherbius a associé plusieurs dispositifs, comme indiqué sur le schéma 3."
   ]
  },
  {
   "cell_type": "markdown",
   "metadata": {},
   "source": [
    "![img](img/enigma3.jpg)"
   ]
  },
  {
   "cell_type": "markdown",
   "metadata": {},
   "source": [
    "Le tableau de connexions permet de brouiller les pistes en reliant deux lettres du clavier entre elles (ici a et b).<br> Ainsi, quand on tape b, le courant prend en fait le circuit prévu pour a.<br>\n",
    "Les trois brouilleurs associés multiplient ainsi le nombre de combinaisons.<br>\n",
    "Le deuxième et le troisième avancent respectivement d'un cran quand le premier et le deuxième ont fait un tour complet.<br> Quant au réflecteur, il renvoie le courant dans le dispositif jusqu'au panneau lumineux où la lettre cryptée s'affiche.<br>\n",
    "Son rôle n'est pas d'augmenter le nombre de combinaisons possibles, mais de faciliter considérablement la tâche du destinataire.<br>\n",
    "En effet, si b devient C dans notre exemple (en rouge), on a aussi c devient B. Et c'est valable pour toutes les paires de lettres claire/cryptée.<br>\n",
    "\n",
    "Conséquence: si le mot efface est chiffré ACBFEB par l'émetteur, il suffira à l'opérateur qui reçoit le message crypté de taper acbfeb sur son clavier pour voir les lettres E, F, F, A, C, E s'allumer.<br>\n",
    "\n",
    "**Seule condition: les deux opérateurs distants doivent avoir réglé leur machine Enigma de la même façon.**<br>\n",
    "### Génial non ?\n"
   ]
  },
  {
   "cell_type": "markdown",
   "metadata": {},
   "source": [
    "Vos missions agent spéciaux \"006\" et \"008\" réaliser chacun une simulation de machine Enigma v2.0 sous Python.<br>\n",
    "Vous devrez vous envoyer des messages et les décoder en ayant la même clé.<br>\n",
    "\n",
    "Vous avez un peu d'aide, j'ai fais usiner les cinqs rotors et le reflecteur à votre disposition dans mon usine à codage ;) <br>\n",
    "\n",
    "\n",
    "\n",
    "   * Perm\t    : A B C D E F G H I J K L M N O P Q R S T U V W X Y Z\n",
    "   * Rotor I\t: E K M F L G D Q V Z N T O W Y H X U S P A I B R C J\n",
    "   * Rotor II\t: A J D K S I R U X B L H W T M C Q G Z N P Y F V O E\n",
    "   * Rotor III\t: B D F H J L C P R T X V Z N Y E I W G A K M U S Q O\n",
    "   * Rotor IV\t: E S O V P Z J A Y Q U I R H X L N F T G K D C M W B\n",
    "   * Rotor V\t: V Z B R G I T Y U P S D N H L X A W M J Q O F E C K\n",
    "   * Réflecteur\t: A:F,F:A,B:V,V:B,C:P,P:C,D:J,J:D,E:I,I:E,G:O,O:G,H:Y,Y:H,K:R,R:K,L:Z,Z:L,M:X,X:M,N:W,W:N,Q:T,T:Q,S:U,U:S\n",
    "\n",
    "   \n",
    "Comme sur la machine originale, il faudra inialiser la machine avant le codage, nous le simulerons par un décalage<br>\n",
    "\n",
    "Par exemple : \n",
    "   * Rotor I / 6 -> G\n",
    "   * Rotor III / 12 -> Z\n",
    "   * Rotor V / 6 -> T\n",
    "   \n",
    "\n",
    "Nous avons bien choisi trois rotors parmis les cinqs et initialisé une positions initiale.<br>\n",
    "Ne pas oublier de faire tourner le premier rotor à chaque caractères, le second au 26e caractères et le troisième rotor au 676e caractères (du même message).<br>\n",
    "\n",
    "Je ne sais pas pour vous, mais j'ai l'impression qu'il y a une base de codage de César la dessous.\n",
    "Vous devrez certainement utiliser des listes et piles.<br>\n",
    "J'aimerai voir des classes pour certains qui se reconnaitrons ;)\n",
    "   \n"
   ]
  }
 ],
 "metadata": {
  "hide_input": false,
  "kernelspec": {
   "display_name": "Python 3",
   "language": "python",
   "name": "python3"
  },
  "language_info": {
   "codemirror_mode": {
    "name": "ipython",
    "version": 3
   },
   "file_extension": ".py",
   "mimetype": "text/x-python",
   "name": "python",
   "nbconvert_exporter": "python",
   "pygments_lexer": "ipython3",
   "version": "3.8.0"
  },
  "latex_envs": {
   "LaTeX_envs_menu_present": true,
   "autoclose": false,
   "autocomplete": true,
   "bibliofile": "biblio.bib",
   "cite_by": "apalike",
   "current_citInitial": 1,
   "eqLabelWithNumbers": true,
   "eqNumInitial": 1,
   "hotkeys": {
    "equation": "Ctrl-E",
    "itemize": "Ctrl-I"
   },
   "labels_anchors": false,
   "latex_user_defs": false,
   "report_style_numbering": false,
   "user_envs_cfg": false
  }
 },
 "nbformat": 4,
 "nbformat_minor": 4
}
