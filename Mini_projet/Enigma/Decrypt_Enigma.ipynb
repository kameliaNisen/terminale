{
 "cells": [
  {
   "cell_type": "markdown",
   "metadata": {},
   "source": [
    "   # <div align=\"center\">Cryptanalyse d'Enigma</div>"
   ]
  },
  {
   "cell_type": "markdown",
   "metadata": {},
   "source": [
    "La machine Enigma n'a plus de secret pour vous !<br>\n",
    "\n",
    ">**Une dernière info**:<br>\n",
    "Historiquement, le chiffreur choisissais trois lettres (ex : COU) et tapait cette clé deux fois sur la machine afin d’éviter les erreurs de frappe.<br>\n",
    "Il obtenait ainsi une clé chiffrée (ex : COUCOU -> DEROMK).<br>\n",
    "Ensuite, il changeait les positions initiales des rotors par la clé choisie : ex C -> 3, O -> 15, U ->21, il mettait donc les rotors sur 3, 15, 21.<br>\n",
    "Puis il tapait le message à chiffrer.\n",
    "\n",
    "Le message transmis était sous la forme :\n",
    "\n",
    "- 25 6 4 - DEROMK"
   ]
  },
  {
   "cell_type": "markdown",
   "metadata": {},
   "source": [
    "### #Voici donc les derniers jours de la sécurité apportée par la machine Enigma\n",
    "\n",
    "La Pologne, se sentant menacé par ses voisins (5400km de frontière, entouré seulement par des états ennemis), décida de se lancer dans la cryptanalyse d’Enigma. Trois spécialistes s’en chargèrent dont Maksymilian Ciezki.<br>\n",
    "Malgré tout leur possible, et la version commerciale d’Enigma (qui avait des rotors différents, et qui ne possédait pas de fiches) la cryptanalyse n’avançait pas.<br>\n",
    "C’est grâce à un espion Allemand, Hans-Thilo Schmidt que le bureau polonais trouva une faille. Il leur transmit les instructions d’utilisation de la machine, les directives pour fixer une clé, et plusieurs fois le cahier des configurations du mois, ainsi que quelques informations.<br>\n",
    "Des mathématiciens se joignirent au Bureau du Chiffre polonais, donc un certain Marian Rejewski un jeune étudiant de 23 ans.<br>\n",
    "Précédemment, nous avons vu que les messages chiffrés étaient précédé de 6 lettres (la clé chiffrée).<br>\n",
    "La première stratégie de cryptanalyse se basait dessus.<br>\n",
    "Dans les instructions fournit par Hans-Tilo, ils savaient que la première lettre correspondait à la quatrième, la seconde a la cinquième et la troisième à la sixième."
   ]
  },
  {
   "cell_type": "markdown",
   "metadata": {},
   "source": [
    "![img](img/decrypt.png)"
   ]
  },
  {
   "cell_type": "markdown",
   "metadata": {},
   "source": [
    "Dans le premier message on sait donc que le L et le Y représente la même lettre, mais que les rotors ont tourné deux fois entre. Le but était de recueillir assez de message pour pouvoir reconstituer l’alphabet."
   ]
  },
  {
   "cell_type": "markdown",
   "metadata": {},
   "source": [
    "![img](img/decrypt2.png)"
   ]
  },
  {
   "cell_type": "markdown",
   "metadata": {},
   "source": [
    "Le deuxième problème est dû au tableau de connexions (les fiches).<br>\n",
    "Ceux-ci augmentent de equation 6 la complexité. Rejewski a donc cherché un moyen d’annuler ses permutations ne recherchant des chaines de lettre.\n",
    "\n",
    "Pour l’alphabet ci-dessus :\n",
    "\n",
    "A -> T -> E -> R -> K -> J -> P -> I -> O -> X -> C -> U -> M -> A = 13 liens\n",
    "B -> W -> H -> Z -> D -> Q -> G -> N -> F -> V -> L -> Y -> S -> B = 13 liens\n",
    "\n",
    "Ensuite, Rejewski répéta la même opération avec les couple deuxième/cinquième et troisième/sixième lettres. Il remarqua qu’il y avait trois configurations de cycle :\n",
    "\n",
    "2 chaines de 13 liens chacun ;\n",
    "6 chaines de 9, 9, 3, 3, 1, 1 liens chacun ;\n",
    "6 chaines de 10, 10, 2, 2, 1, 1 liens chacun."
   ]
  },
  {
   "cell_type": "markdown",
   "metadata": {},
   "source": [
    "## Cryptanalyse d’Enigma\n",
    "\n",
    "Les bombes de Turing étaient très efficaces à l’époque, mais nous avons maintenant des ordinateurs beaucoup plus puissants, capables de tester beaucoup plus de cas par seconde.\n",
    "\n",
    "On part du principe que nous connaissons les câblages des rotors. On cherche donc le positionnement, le réglage des rotors et les fiches.\n",
    "\n",
    "Pour la cryptanalyse d’Enigma, nous allons utiliser l’indice de coïncidence d’un texte. Pour que cela fonctionne correctement, il est nécessaire d’avoir un texte assez long (plusieurs centaines de caractère).\n",
    "\n",
    "Il faut savoir qu’à l’époque, ils ne connaissaient pas encore l’indice de coïncidence et donc que cette méthode est anachronique.\n",
    "\n",
    "L’indice de coïncidence représente la probabilité d’avoir deux lettres identiques dans un texte.\n",
    "\n",
    "![img](img/decrypt3.png)\n",
    "\n",
    "Pour un texte Français, on se base sur la fréquence d’apparition des lettres en français. \n",
    "Pour un texte en Français, on a donc un IC = 0.0746.\n",
    "\n",
    "Le but va être de calculer l’IC du texte pour toutes les positions de rotors et de prendre la plus haute valeur.<br>\n",
    "On cherche à cryptanalyser la machine Enigma M3 :\n",
    "\n",
    "![img](img/decrypt4.png)\n",
    "\n",
    "<center><a  href=\"https://fr.wikipedia.org/wiki/Analyse_fr%C3%A9quentielle\">Wiki sur l'Analyse fréquentielle</a></center>\n"
   ]
  },
  {
   "cell_type": "markdown",
   "metadata": {},
   "source": [
    "Dans un premier temps nous n'utilisons pas la permutation simulant les fiches de permutation.\n",
    "* Commencez par coder plusieurs phrase et/ou mot en réinialisant votre machine a chaque fois et gardez le texte orginal avec son codage.\n",
    "* Reperez les répetitions sur vos messages\n",
    "* Faite une cryptanalyse de vos messages pour les déchiffrer."
   ]
  }
 ],
 "metadata": {
  "hide_input": false,
  "kernelspec": {
   "display_name": "Python 3",
   "language": "python",
   "name": "python3"
  },
  "language_info": {
   "codemirror_mode": {
    "name": "ipython",
    "version": 3
   },
   "file_extension": ".py",
   "mimetype": "text/x-python",
   "name": "python",
   "nbconvert_exporter": "python",
   "pygments_lexer": "ipython3",
   "version": "3.8.0"
  },
  "latex_envs": {
   "LaTeX_envs_menu_present": true,
   "autoclose": false,
   "autocomplete": true,
   "bibliofile": "biblio.bib",
   "cite_by": "apalike",
   "current_citInitial": 1,
   "eqLabelWithNumbers": true,
   "eqNumInitial": 1,
   "hotkeys": {
    "equation": "Ctrl-E",
    "itemize": "Ctrl-I"
   },
   "labels_anchors": false,
   "latex_user_defs": false,
   "report_style_numbering": false,
   "user_envs_cfg": false
  }
 },
 "nbformat": 4,
 "nbformat_minor": 4
}
