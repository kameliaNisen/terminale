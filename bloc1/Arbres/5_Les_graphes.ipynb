{
 "cells": [
  {
   "cell_type": "markdown",
   "metadata": {},
   "source": [
    "   # <div align=\"center\">Les graphes</div>"
   ]
  },
  {
   "cell_type": "markdown",
   "metadata": {},
   "source": [
    "### Graphe simple\n",
    "\n",
    "![img](img/graph1.png)\n",
    "\n",
    ">Un graphe simple est un couple G = (V, E) comprenant\n",
    ">* V un ensemble de sommets (parfois appelés nœuds),\n",
    ">* E un ensemble d’arêtes reliant ces sommets (parfois appelés arcs ou flèches).\n",
    "Une arrête est simplement un couple de sommets ou un ensemble de deux sommets.\n",
    "Les termes et notations anglais, que vous rencontrerez souvent sont : \n",
    ">* sommet : vertice \n",
    ">* arête : edge. D’où les noms des ensembles.\n",
    "\n",
    "Exemple<br>\n",
    "Dans le graphe ci-dessus <br>\n",
    "   * sommets sont : V = {1, 2, 3, 4, 5, 6}\n",
    "   * Les arrêtes sont : E = {{1, 4}, {1, 5}, {4, 5}, {3, 5}, {3, 4}, {4, 6}, {2, 6}, {2, 3}}"
   ]
  },
  {
   "cell_type": "markdown",
   "metadata": {
    "solution": "hidden"
   },
   "source": [
    "Ici encore une fonction récursive va nous permettre d'inserer une clé dans un arbre."
   ]
  },
  {
   "cell_type": "markdown",
   "metadata": {},
   "source": [
    "### Graphe orienté\n",
    "\n",
    "![img](img/graph2.png)\n",
    "\n",
    "Lorsque les arêtes sont marquées d’une flèche, elles sont orientées.<br>\n",
    "Une arrête orientée ne se parcourt que dans le sens de la flèche. Dans ce cas on note généralement les arrêtes avec des\n",
    "parenthèses pour désigner des couples.<br>\n",
    "Par exemple l’arête (1, 2) part de 1 et arrive en 2.<br>\n",
    "Si c’est un réseau de transport, on peut se rendre de 1 vers 2, mais pas dans l’autre sens"
   ]
  },
  {
   "cell_type": "markdown",
   "metadata": {},
   "source": [
    "### Graphe pondéré\n",
    "Dans certains cas, toutes les arêtes ne se valent pas. (Un trajet Lille-Paris ne “coûte” pas autant qu’un “Paris-Lyon”.)\n",
    "Dans ce cas on attribue aux arrêtes un poids, souvent noté w (pour weight).\n",
    "\n",
    "![img](img/graph3.png)\n",
    "\n",
    "Ici l’arête (C, F) a un poids de 25.<br>\n",
    "Et le trajet (A, C, F, E) pèse 5 + 25 + 7 = 37"
   ]
  },
  {
   "cell_type": "markdown",
   "metadata": {},
   "source": [
    "### Structure de donnée graphe\n",
    "Introduction\n",
    "De quoi a-t-on besoin de pour décrire des graphes ?\n",
    "\n",
    "De toute évidence, il nous faut pouvoir représenter\n",
    "   * les sommets,\n",
    "   * les arrêtes.\n",
    "Lors de notre représentation des arbres binaires nous avions choisi de ne considérer que les nœuds et nous avions\n",
    "essentiellement une structure sous forme de triplet :<br>\n",
    "arbre = (contenu, sous_arbre_gauche, sous_arbre_droit)<br>\n",
    "Cela ne fonctionne plus ici, il n’y a généralement pas de sommet privilégié dans un graphe. . . Tous les nœuds jouent le\n",
    "même rôle.<br>\n",
    "Il faut donc envisager un moyen de représenter l’ensemble des sommets et l’ensemble des arrêtes.<br>\n",
    "Les sommets d’un graphe peuvent être enregistrés dans n’importe quelle “collection” :<br>\n",
    "  * liste,\n",
    "  * tuples,\n",
    "  * dictionnaires,\n",
    "  * ensemble,\n",
    "  * etc.\n",
    "Pour les arêtes, c’est différent.<br>\n",
    "Il existe plusieurs manières de les décrire et toutes ont leur utilité. Nous devons apprendre à passer de l’une à l’autre.\n",
    "Ensemble d’arêtes<br>\n",
    "La méthode la plus simple et la plus courante pour décrire les arêtes est d’en donner une collection. En mathématiques un\n",
    "ensemble, en informatique, n’importe quelle structure sur laquelle itérer.<br>\n",
    "\n",
    "Par exemple : G = (V, E) avec V = {1, 2, 3, 4} et E = {(1, 2),(2, 3),(3, 4),(2, 4)}\n",
    "\n",
    "\n",
    "![img](img/graph4.png)\n",
    "\n",
    "Guido Von Rossum (créateur de Python) préconise d’utiliser un dictionnaire.\n"
   ]
  },
  {
   "cell_type": "code",
   "execution_count": null,
   "metadata": {},
   "outputs": [],
   "source": [
    "aretes = {\n",
    "1: [2],\n",
    "2: [1, 3, 4],\n",
    "3: [2, 4],\n",
    "4: [3, 2],\n",
    "}\n"
   ]
  },
  {
   "cell_type": "markdown",
   "metadata": {},
   "source": [
    "### Matrice d’adjacence\n",
    "Il est courant et souvent pratique de représenter les arêtes dans une matrice.\n",
    ">Définition :\n",
    "Pour un graphe simple G = (V, E) avec n sommets, la matrice d’adjacence de G est une matrice de dimension\n",
    "n × n dont l’élément aij est 1 si les sommets i et j sont reliés par une arrête et 0 sinon\n",
    "\n",
    "Dans l’exemple du graphe ci-dessus, cela donne :\n",
    "\n",
    "\\begin{pmatrix}0&1&0&0\\\\ \n",
    "1&0&1&1\\\\ \n",
    "0&1&0&1\\\\ \n",
    "0&1&1&0\\\\ \n",
    "\\end{pmatrix} \n",
    "\n",
    "\n",
    "Comment remplir la première ligne ?\n",
    "   * 1 n’est pas relié à 1 donc le premier nombre est 0.\n",
    "   * 1 est relié à 2 donc le second nombre est 1.\n",
    "   * 1 n’est pas relié à 3, le troisième nombre est 0.\n",
    "   * 1 n’est pas relié à 4, le quatrième nombre est 0.\n",
    "\n",
    "On obtient bien la première ligne : 0 1 0 0.\n"
   ]
  },
  {
   "cell_type": "markdown",
   "metadata": {
    "solution": "hidden"
   },
   "source": [
    "### De la matrice d’adjacence à la représentation\n",
    "\n",
    "Partant d’une matrice d’adjacence comme:\n",
    "\n",
    "\\begin{pmatrix}\n",
    "0&1&1&1&0\\\\ \n",
    "1&0&1&1&1\\\\ \n",
    "1&1&0&1&0\\\\\n",
    "1&1&1&0&1\\\\\n",
    "0&1&0&1&0\\\\ \n",
    "\\end{pmatrix} \n",
    "\n",
    "**Nous avons** <br>\n",
    "G = (V, E)<br>\n",
    "V={Lille, Paris, Lyon, Marseille, Nice}\n",
    "\n",
    "**Représentez le graph défini par la matrice ci-dessus**<br>\n",
    "\n",
    "**Définir l'ensemble des arêtes E={}**"
   ]
  }
 ],
 "metadata": {
  "hide_input": false,
  "kernelspec": {
   "display_name": "Python 3",
   "language": "python",
   "name": "python3"
  },
  "language_info": {
   "codemirror_mode": {
    "name": "ipython",
    "version": 3
   },
   "file_extension": ".py",
   "mimetype": "text/x-python",
   "name": "python",
   "nbconvert_exporter": "python",
   "pygments_lexer": "ipython3",
   "version": "3.8.0"
  },
  "latex_envs": {
   "LaTeX_envs_menu_present": true,
   "autoclose": false,
   "autocomplete": true,
   "bibliofile": "biblio.bib",
   "cite_by": "apalike",
   "current_citInitial": 1,
   "eqLabelWithNumbers": true,
   "eqNumInitial": 1,
   "hotkeys": {
    "equation": "Ctrl-E",
    "itemize": "Ctrl-I"
   },
   "labels_anchors": false,
   "latex_user_defs": false,
   "report_style_numbering": false,
   "user_envs_cfg": false
  }
 },
 "nbformat": 4,
 "nbformat_minor": 4
}
