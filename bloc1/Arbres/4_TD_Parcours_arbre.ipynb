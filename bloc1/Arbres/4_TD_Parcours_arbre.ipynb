{
 "cells": [
  {
   "cell_type": "markdown",
   "metadata": {
    "solution": "hidden"
   },
   "source": [
    "   # <div align=\"center\"> TD Parcours d'un arbre</div>"
   ]
  },
  {
   "cell_type": "markdown",
   "metadata": {},
   "source": [
    "![arbres](img/td_parcours.png)\n",
    "\n",
    "L'arbre r représenté ci-dessus peut également s'écrire sous la forme :<br>\n",
    "\n",
    "{'r': ['a', 'b'], 'a': ['c', 'd'], 'b': ['e', 'f'], 'c': ['', 'h'], 'd': ['i', 'j'], 'e': ['k', ''], 'f': ['', ''], 'h': ['', ''], 'i': ['', ''], 'j': ['m', ''], 'k': ['', ''], 'm': ['', '']} <br>\n",
    "\n",
    "\n",
    "Nous avons déjà travaillé sur cette structure, le code python de création de l'arbre est rappelé ci aprés.\n"
   ]
  },
  {
   "cell_type": "code",
   "execution_count": null,
   "metadata": {},
   "outputs": [],
   "source": [
    "def noeud(nom, fg = None, fd = None) :\n",
    "    return {'racine': nom, 'fg' : fg, 'fd': fd}\n",
    "\n",
    "k = noeud('k')\n",
    "f = noeud('f')\n",
    "e = noeud('e', k, None)\n",
    "b = noeud('b', e, f)\n",
    "m = noeud('m')\n",
    "j = noeud('j', m, None)\n",
    "i = noeud('i')\n",
    "d = noeud('d', i, j)\n",
    "h = noeud('h')\n",
    "c = noeud('c', None, h)\n",
    "a = noeud('a', c, d)\n",
    "racine = noeud('r', a, b)\n",
    "\n",
    "\n",
    "def construit(arbre) :\n",
    "    if arbre == None : return []\n",
    "    else : return [arbre['racine'],  construit(arbre['fg']), construit(arbre['fd']) ]\n",
    "    \n",
    "Arbre_r=construit(racine)\n",
    "print(\"Arbre: \" ,Arbre_r)"
   ]
  },
  {
   "cell_type": "code",
   "execution_count": null,
   "metadata": {},
   "outputs": [],
   "source": [
    "Arbre:  ['r', ['a', ['c', [], ['h', [], []]], ['d', ['i', [], []],/\n",
    "        ['j', ['m', [], []], []]]], ['b', ['e', ['k', [], []], []], ['f', [], []]]]"
   ]
  },
  {
   "cell_type": "markdown",
   "metadata": {},
   "source": [
    "**Parcours Préfixe:**\n",
    ">Rappel \n",
    "On nomme le sommet la première fois qu'on passe à sa gauche.<br>\n",
    "\n",
    "Créer la fonction **parcoursPrefixe** permettant de définir ce parcours"
   ]
  },
  {
   "cell_type": "code",
   "execution_count": null,
   "metadata": {
    "solution": "hidden"
   },
   "outputs": [],
   "source": [
    "def parcoursPrefixe(arbre) :\n",
    "    '''Votre code'''"
   ]
  },
  {
   "cell_type": "code",
   "execution_count": null,
   "metadata": {},
   "outputs": [],
   "source": [
    "Parcours préfixe : \n",
    "r,a,c,h,d,i,j,m,b,e,k,f"
   ]
  },
  {
   "cell_type": "markdown",
   "metadata": {},
   "source": [
    "**Parcours Postfixe:**\n",
    ">Rappel \n",
    "On nomme le sommet la dernière fois qu'on passe à sa gauche.<br>\n",
    "\n",
    "Créer la fonction **parcoursPostfixe** permettant de définir ce parcours"
   ]
  },
  {
   "cell_type": "code",
   "execution_count": null,
   "metadata": {},
   "outputs": [],
   "source": [
    "def parcoursPostfixe(arbre) :\n",
    "    '''Votre code'''"
   ]
  },
  {
   "cell_type": "code",
   "execution_count": null,
   "metadata": {},
   "outputs": [],
   "source": [
    "Parcours postfixe : \n",
    "h,c,i,m,j,d,a,k,e,f,b,r"
   ]
  },
  {
   "cell_type": "markdown",
   "metadata": {},
   "source": [
    "**Parcours Infixe:**\n",
    ">Rappel \n",
    "On visite chaque nœud entre les nœuds de son sous-arbre de gauche et les nœuds de son sous-arbre de droite.<br>\n",
    "\"on nomme le sommet une fois passé en dessous\".<br>\n",
    "\n",
    "Créer la fonction **parcoursInfixe** permettant de définir ce parcours"
   ]
  },
  {
   "cell_type": "code",
   "execution_count": null,
   "metadata": {},
   "outputs": [],
   "source": [
    "def parcoursInfixe(arbre) :\n",
    "    '''Votre code'''"
   ]
  },
  {
   "cell_type": "code",
   "execution_count": null,
   "metadata": {},
   "outputs": [],
   "source": [
    "c,h,a,i,d,m,j,r,k,e,b,f"
   ]
  },
  {
   "cell_type": "markdown",
   "metadata": {},
   "source": [
    "**Parcours en largeur:**\n",
    ">Rappel \n",
    "on parcourt par distance croissante à la racine.<br>\n",
    "\n",
    "Créer la fonction **ParcoursLargeur** permettant de définir ce parcours<br>\n",
    "\n",
    ">**Une petite aide :**<br>\n",
    "fpile est une liste !<br>\n",
    "\n",
    "Les méthodes des listes rendent très facile leur utilisation comme des piles, où le dernier élément ajouté est le premier récupéré.<br>\n",
    "Pour ajouter un élément sur la pile, utilisez la méthode append().<br>\n",
    "Pour récupérer l'objet au sommet de la pile, utilisez la méthode pop() sans indicateur de position<br>\n",
    "\n",
    "**fpile.pop()** : Enlève et renvoie le dernier élément de la liste \"fpile\".<br>\n",
    "**fpile.insert(0, arbre)** : Insère un élément à la position indiquée par le premier argument, donc;<br>\n",
    "   * fpile.insert(0, arbre) insère l'élément arbre en tête de la liste \"fpile\"."
   ]
  },
  {
   "cell_type": "code",
   "execution_count": 1,
   "metadata": {},
   "outputs": [],
   "source": [
    "def ParcoursLargeur(arbre):\n",
    "    fpile = []\n",
    "    fpile.insert(0, arbre)\n",
    "    while fpile:\n",
    "        arbre = fpile.pop()\n",
    "        '''Votre code'''"
   ]
  },
  {
   "cell_type": "code",
   "execution_count": null,
   "metadata": {},
   "outputs": [],
   "source": [
    "Parcours largeur : \n",
    "r,a,b,c,d,e,f,h,i,j,k,m"
   ]
  }
 ],
 "metadata": {
  "hide_input": false,
  "kernelspec": {
   "display_name": "Python 3",
   "language": "python",
   "name": "python3"
  },
  "language_info": {
   "codemirror_mode": {
    "name": "ipython",
    "version": 3
   },
   "file_extension": ".py",
   "mimetype": "text/x-python",
   "name": "python",
   "nbconvert_exporter": "python",
   "pygments_lexer": "ipython3",
   "version": "3.8.0"
  },
  "latex_envs": {
   "LaTeX_envs_menu_present": true,
   "autoclose": false,
   "autocomplete": true,
   "bibliofile": "biblio.bib",
   "cite_by": "apalike",
   "current_citInitial": 1,
   "eqLabelWithNumbers": true,
   "eqNumInitial": 1,
   "hotkeys": {
    "equation": "Ctrl-E",
    "itemize": "Ctrl-I"
   },
   "labels_anchors": false,
   "latex_user_defs": false,
   "report_style_numbering": false,
   "user_envs_cfg": false
  }
 },
 "nbformat": 4,
 "nbformat_minor": 4
}
