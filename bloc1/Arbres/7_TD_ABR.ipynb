{
 "cells": [
  {
   "cell_type": "markdown",
   "metadata": {},
   "source": [
    "   # <div align=\"center\">TD Arbre binaire de recherche (ABR)</div>"
   ]
  },
  {
   "cell_type": "markdown",
   "metadata": {},
   "source": [
    "Soit l'arbre ci-dessous.\n",
    "![img](img/td_abr.png)"
   ]
  },
  {
   "cell_type": "markdown",
   "metadata": {},
   "source": [
    "Les classes Noeud et ArbreBinaire vous sont données et ne nécessitent pas de modification"
   ]
  },
  {
   "cell_type": "code",
   "execution_count": null,
   "metadata": {},
   "outputs": [],
   "source": [
    "class Noeud:\n",
    "    def __init__(self, valeur, gauche, droit):\n",
    "        self.r = valeur\n",
    "        self.g = gauche\n",
    "        self.d = droit\n",
    "        \n",
    "class ArbreBinaire:\n",
    "    def __init__(self, c):\n",
    "        self.n = c\n",
    "    def creeVide():\n",
    "        return ArbreBinaire(None)\n",
    "    def creeNGD(valeur, gauche, droit):\n",
    "        return ArbreBinaire(Noeud(valeur, gauche, droit))\n",
    "    def estVide(self):\n",
    "        return self.n is None\n",
    "    def racine(self):\n",
    "        assert not(self.n is None), 'Arbre vide'\n",
    "        return self.n.r\n",
    "    def filsGauche(self):\n",
    "        assert not(self.n is None), 'Arbre vide'\n",
    "        return self.n.g\n",
    "    def filsDroit(self):\n",
    "        assert not(self.n is None), 'Arbre vide'\n",
    "        return self.n.d\n",
    "\n",
    "vide = ArbreBinaire(None)\n",
    "def creeFeuille(x):\n",
    "    return ArbreBinaire.creeNGD(x, vide, vide)\n"
   ]
  },
  {
   "cell_type": "markdown",
   "metadata": {},
   "source": [
    "**A vous !**<br>\n",
    "Créer l'arbre grâce à la méthode \"creeNGD\" de la classe \"ArbreBinaire\"<br>\n",
    "**Astuce**<br>\n",
    "Il faut peut être définir plusieurs variables.<br>\n",
    "a=....creeNGD.....creeFeuille....<br>\n",
    "b=....<br>\n",
    "c=....<br>"
   ]
  },
  {
   "cell_type": "markdown",
   "metadata": {},
   "source": [
    "Contrôler que vous avez bien une structure d'arbre de recherche (ABR) en implémentant un parcours Infixe. "
   ]
  },
  {
   "cell_type": "code",
   "execution_count": null,
   "metadata": {},
   "outputs": [],
   "source": [
    "def parcoursInfixe(arbre):\n",
    "    if arbre....\n",
    "    ......"
   ]
  },
  {
   "cell_type": "code",
   "execution_count": null,
   "metadata": {},
   "outputs": [],
   "source": [
    "Parcours infixe: \n",
    "1,3,4,6,8,9,11,12,14"
   ]
  },
  {
   "cell_type": "code",
   "execution_count": null,
   "metadata": {},
   "outputs": [],
   "source": [
    "Ajouter les fonctions taille(arbre) et profondeur(arbre)<br>\n",
    "Une formalité pour vous maintenant ;)"
   ]
  },
  {
   "cell_type": "code",
   "execution_count": null,
   "metadata": {},
   "outputs": [],
   "source": [
    "def taille(arbre):\n",
    "    if arbre....\n",
    "    ....."
   ]
  },
  {
   "cell_type": "code",
   "execution_count": null,
   "metadata": {},
   "outputs": [],
   "source": [
    "Taille arbre : \n",
    "9"
   ]
  },
  {
   "cell_type": "code",
   "execution_count": null,
   "metadata": {},
   "outputs": [],
   "source": [
    "def profondeur(arbre):\n",
    "    if arbre.....\n",
    "    ......"
   ]
  },
  {
   "cell_type": "code",
   "execution_count": null,
   "metadata": {},
   "outputs": [],
   "source": [
    "Profondeur arbre : \n",
    "3"
   ]
  },
  {
   "cell_type": "code",
   "execution_count": null,
   "metadata": {},
   "outputs": [],
   "source": [
    "Nous allons maintenant ajouter la classe \"ABR\" a notre programme et modifier la fonction \"creeFeuille\""
   ]
  },
  {
   "cell_type": "code",
   "execution_count": null,
   "metadata": {},
   "outputs": [],
   "source": [
    "class ABR(ArbreBinaire):\n",
    "    def __init__(self,c):\n",
    "        ArbreBinaire.__init__(self,c)\n",
    "    def creeNGD(valeur, gauche, droit):\n",
    "        return ABR(Noeud(valeur, gauche, droit))\n",
    "    def cherche(self,x):\n",
    "        if ArbreBinaire.estVide(self):\n",
    "            return False\n",
    "        elif x == self.racine():\n",
    "            return True\n",
    "        elif x < self.racine():\n",
    "            return self.filsGauche().cherche(x)\n",
    "        else:\n",
    "            return self.filsDroit().cherche(x)\n",
    "        \n",
    "   # def ajoute(self,x):\n",
    "   # ... \n",
    "   # ...\n",
    "\n",
    "def creeFeuille(x):\n",
    "    return ArbreBinaire.creeNGD(x, vide, vide)"
   ]
  },
  {
   "cell_type": "markdown",
   "metadata": {},
   "source": [
    "Comme vous l'avez compris c'est a vous de développer la méthode \"ajoute\""
   ]
  },
  {
   "cell_type": "markdown",
   "metadata": {},
   "source": [
    "Exemple d'utilisation de la methode cherche:"
   ]
  },
  {
   "cell_type": "code",
   "execution_count": null,
   "metadata": {},
   "outputs": [],
   "source": [
    "a.cherche(9)"
   ]
  },
  {
   "cell_type": "code",
   "execution_count": null,
   "metadata": {},
   "outputs": [],
   "source": [
    "True"
   ]
  },
  {
   "cell_type": "markdown",
   "metadata": {},
   "source": [
    "Une fois la méthode \"ajoute\" complétée vous pourrez la tester:"
   ]
  },
  {
   "cell_type": "code",
   "execution_count": null,
   "metadata": {},
   "outputs": [],
   "source": [
    "ABR.ajoute(a,50)"
   ]
  },
  {
   "cell_type": "code",
   "execution_count": null,
   "metadata": {},
   "outputs": [],
   "source": [
    "1,3,4,6,8,9,11,12,14,50"
   ]
  },
  {
   "cell_type": "code",
   "execution_count": null,
   "metadata": {},
   "outputs": [],
   "source": [
    "ABR.ajoute(a,10)"
   ]
  },
  {
   "cell_type": "code",
   "execution_count": null,
   "metadata": {},
   "outputs": [],
   "source": [
    "1,3,4,6,8,9,10,11,12,14"
   ]
  }
 ],
 "metadata": {
  "hide_input": false,
  "kernelspec": {
   "display_name": "Python 3",
   "language": "python",
   "name": "python3"
  },
  "language_info": {
   "codemirror_mode": {
    "name": "ipython",
    "version": 3
   },
   "file_extension": ".py",
   "mimetype": "text/x-python",
   "name": "python",
   "nbconvert_exporter": "python",
   "pygments_lexer": "ipython3",
   "version": "3.8.0"
  },
  "latex_envs": {
   "LaTeX_envs_menu_present": true,
   "autoclose": false,
   "autocomplete": true,
   "bibliofile": "biblio.bib",
   "cite_by": "apalike",
   "current_citInitial": 1,
   "eqLabelWithNumbers": true,
   "eqNumInitial": 1,
   "hotkeys": {
    "equation": "Ctrl-E",
    "itemize": "Ctrl-I"
   },
   "labels_anchors": false,
   "latex_user_defs": false,
   "report_style_numbering": false,
   "user_envs_cfg": false
  }
 },
 "nbformat": 4,
 "nbformat_minor": 4
}
