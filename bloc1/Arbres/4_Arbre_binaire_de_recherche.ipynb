{
 "cells": [
  {
   "cell_type": "markdown",
   "metadata": {
    "solution": "hidden"
   },
   "source": [
    "   # <div align=\"center\">Arbre binaire de recherche</div>"
   ]
  },
  {
   "cell_type": "markdown",
   "metadata": {},
   "source": [
    "### Notion d’arbre binaire de recherche"
   ]
  },
  {
   "cell_type": "markdown",
   "metadata": {},
   "source": [
    "Les éléments stockés dans un arbre binaire de recherche **ABR** (en anglais, Binary Search Tree ou BST) doivent posséder une **relation d'ordre totale**, c'est-à-dire qu'il doit exister une manière de dire si un élément est plus grand ou plus petit qu'un autre.<br>\n",
    "\n",
    "Par exemple, on peut trier des nombres par valeur ou des personnes par ordre alphabétique de leur nom de famille."
   ]
  },
  {
   "cell_type": "markdown",
   "metadata": {},
   "source": [
    "Le premier élément inséré dans l'arbre devient la racine.<br>\n",
    "Ensuite, il suffit de mettre à gauche les éléments plus petits et à droite les éléments plus grands.<br>\n",
    "\n",
    "C'est cette particularité qui rend les BST intéressants : <br>\n",
    "la plupart des opérations réalisées sur les arbres binaires de recherche ont une complexité temporelle logarithmique O(log n) dans le cas moyen.<br>\n",
    "Cela est dû au fait que, grâce à la relation d'ordre liant les valeurs, on peut naviguer dans l'arbre avec une logique rappelant une recherche dichotomique, ce qui est plus performant que les listes, par exemple, que l'on doit parcourir élément par élément."
   ]
  },
  {
   "cell_type": "markdown",
   "metadata": {},
   "source": [
    "**A retenir**\n",
    ">La clé à la racine d’un arbre binaire de recherche (ou d’un sous-arbre) est toujours:<br>\n",
    "-plus grande que les clés présentes dans son fils gauche ;<br>\n",
    "-plus petite que les clés présentes dans son fils droit."
   ]
  },
  {
   "cell_type": "markdown",
   "metadata": {
    "solution": "hidden",
    "solution_first": true
   },
   "source": [
    "Cette propriété nous permet de rechercher facilement une valeur.\n",
    "Recherchons la clé ayant la valeur \"9\" dans l'arbre ci-dessous.\n",
    "![img](img/abr9.png)"
   ]
  },
  {
   "cell_type": "markdown",
   "metadata": {
    "solution": "hidden"
   },
   "source": [
    "![img](img/abr91.png)"
   ]
  },
  {
   "cell_type": "markdown",
   "metadata": {},
   "source": [
    "Nous pouvons donc facilement rechercher la présence d'une valeur dans un ABR grâce à une fonction récursive"
   ]
  },
  {
   "cell_type": "code",
   "execution_count": null,
   "metadata": {},
   "outputs": [],
   "source": [
    "def est_présent(arbre, valeur):\n",
    "    if arbre == None:\n",
    "        return False\n",
    "    elif .....\n",
    "    ...\n",
    "    ...\n",
    "    ..."
   ]
  },
  {
   "cell_type": "markdown",
   "metadata": {},
   "source": [
    "### Ajout d'une valeur"
   ]
  },
  {
   "cell_type": "markdown",
   "metadata": {
    "solution": "hidden",
    "solution_first": true
   },
   "source": [
    "Où ajouter la clé \"3\" dans notre arbre ?"
   ]
  },
  {
   "cell_type": "markdown",
   "metadata": {
    "solution": "hidden"
   },
   "source": [
    "<tr>\n",
    "<td> <img src=\"img/abr3.png\" alt=\"Drawing\" style=\"width: 280px;\"/> </td>\n",
    "<td> <img src=\"img/abr31.png\" alt=\"Drawing\" style=\"width: 280px;\"/> </td>\n",
    "</tr>"
   ]
  },
  {
   "cell_type": "markdown",
   "metadata": {
    "solution": "hidden"
   },
   "source": [
    "Ici encore une fonction récursive va nous permettre d'inserer une clé dans un arbre."
   ]
  },
  {
   "cell_type": "code",
   "execution_count": null,
   "metadata": {},
   "outputs": [],
   "source": [
    "def insérer(arbre, valeur):\n",
    "# On suppose que arbre != None\n",
    "    If  arbre.clé < valeur:\n",
    "# On regarde dans le sous-arbre droit\n",
    "   ...\n",
    "   ...\n",
    "   ...\n",
    "    insérer(arbre.droit, valeur)\n",
    "    elif arbre.clé > valeur:\n",
    "# On regarde dans le sous-arbre gauche\n",
    "   ...\n",
    "   ...\n",
    "        insérer(arbre.gauche, valeur)"
   ]
  }
 ],
 "metadata": {
  "hide_input": false,
  "kernelspec": {
   "display_name": "Python 3",
   "language": "python",
   "name": "python3"
  },
  "language_info": {
   "codemirror_mode": {
    "name": "ipython",
    "version": 3
   },
   "file_extension": ".py",
   "mimetype": "text/x-python",
   "name": "python",
   "nbconvert_exporter": "python",
   "pygments_lexer": "ipython3",
   "version": "3.8.0"
  },
  "latex_envs": {
   "LaTeX_envs_menu_present": true,
   "autoclose": false,
   "autocomplete": true,
   "bibliofile": "biblio.bib",
   "cite_by": "apalike",
   "current_citInitial": 1,
   "eqLabelWithNumbers": true,
   "eqNumInitial": 1,
   "hotkeys": {
    "equation": "Ctrl-E",
    "itemize": "Ctrl-I"
   },
   "labels_anchors": false,
   "latex_user_defs": false,
   "report_style_numbering": false,
   "user_envs_cfg": false
  }
 },
 "nbformat": 4,
 "nbformat_minor": 4
}
