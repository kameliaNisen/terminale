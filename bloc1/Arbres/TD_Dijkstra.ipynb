{
 "cells": [
  {
   "attachments": {},
   "cell_type": "markdown",
   "metadata": {},
   "source": [
    "   # <div align=\"center\">TD graphe Dijkstra</div>"
   ]
  },
  {
   "cell_type": "markdown",
   "metadata": {},
   "source": [
    "Soit le graph suivant:\n",
    "\n",
    "![img](img/graph5.png)\n",
    "\n",
    "Et Comme je suis sympa ;) , je vous donne **Tout** le code python."
   ]
  },
  {
   "cell_type": "code",
   "execution_count": 1,
   "metadata": {},
   "outputs": [
    {
     "name": "stdout",
     "output_type": "stream",
     "text": [
      "On visite le sommet A\n",
      "Met à jour le sommet B avec la distance : 15\n",
      "Met à jour le sommet C avec la distance : 4\n",
      "On visite le sommet B\n",
      "Met à jour le sommet E avec la distance : 20\n",
      "On visite le sommet C\n",
      "Met à jour le sommet E avec la distance : 15\n",
      "Met à jour le sommet D avec la distance : 6\n",
      "On visite le sommet E\n",
      "On visite le sommet E\n",
      "On visite le sommet D\n",
      "Met à jour le sommet E avec la distance : 9\n",
      "On visite le sommet E\n",
      "Distances{'A': 0, 'B': 15, 'C': 4, 'E': 9, 'D': 6}\n"
     ]
    }
   ],
   "source": [
    "from collections import deque\n",
    "\n",
    "def dijkstra(graph, vertex):\n",
    "    queue = deque([vertex])\n",
    "    distance = {vertex: 0}\n",
    "    while queue:\n",
    "        t = queue.popleft()\n",
    "        print(\"On visite le sommet \" + str(t))\n",
    "        for voisin in graph[t]:\n",
    "                queue.append(voisin)\n",
    "                nouvelle_distance = distance[t] + graph[t][voisin]\n",
    "                if(voisin not in distance or nouvelle_distance < distance[voisin]):\n",
    "                    distance[voisin] = nouvelle_distance\n",
    "                    print(\"Met à jour le sommet \" + str(voisin) + \" avec la distance : \" + str(nouvelle_distance))\n",
    "                    \n",
    "    return distance\n",
    "\n",
    "\n",
    "\n",
    "#Liste d'ajacence du graphe\n",
    "graph = {'A':{'B':15,'C':4},'B':{'E':5},'C':{'E':11,'D':2},'D':{'E':3},'E':{}}\n",
    "distance = dijkstra(graph,'A')\n",
    "print(\"Distances\" + str(distance))"
   ]
  },
  {
   "cell_type": "markdown",
   "metadata": {},
   "source": [
    "**A faire**\n",
    "\n",
    "Modifier la définition du graph pour calculer les distances a partir des autres sommets."
   ]
  },
  {
   "cell_type": "code",
   "execution_count": null,
   "metadata": {},
   "outputs": [],
   "source": []
  }
 ],
 "metadata": {
  "hide_input": false,
  "kernelspec": {
   "display_name": "Python 3",
   "language": "python",
   "name": "python3"
  },
  "language_info": {
   "codemirror_mode": {
    "name": "ipython",
    "version": 3
   },
   "file_extension": ".py",
   "mimetype": "text/x-python",
   "name": "python",
   "nbconvert_exporter": "python",
   "pygments_lexer": "ipython3",
   "version": "3.8.0"
  },
  "latex_envs": {
   "LaTeX_envs_menu_present": true,
   "autoclose": false,
   "autocomplete": true,
   "bibliofile": "biblio.bib",
   "cite_by": "apalike",
   "current_citInitial": 1,
   "eqLabelWithNumbers": true,
   "eqNumInitial": 1,
   "hotkeys": {
    "equation": "Ctrl-E",
    "itemize": "Ctrl-I"
   },
   "labels_anchors": false,
   "latex_user_defs": false,
   "report_style_numbering": false,
   "user_envs_cfg": false
  }
 },
 "nbformat": 4,
 "nbformat_minor": 4
}
