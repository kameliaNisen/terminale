{
 "cells": [
  {
   "cell_type": "markdown",
   "metadata": {
    "solution": "hidden"
   },
   "source": [
    " \n",
    "   # <div align=\"center\"> Manipulation des arbres binaires </div>"
   ]
  },
  {
   "cell_type": "markdown",
   "metadata": {},
   "source": [
    "L'arbre codé par <br>\n",
    "* d = noeud('d')\n",
    "* b = noeud('b',None,d)\n",
    "* a = noeud('a')\n",
    "* A = noeud('r',a,b)\n",
    "\n",
    "         ____r__\n",
    "        /       \\\n",
    "       a         b\n",
    "                  \\\n",
    "                   d\n",
    "\n",
    "est représenté par ['r', ['a', [ ], [ ]],['b', [ ],['d',[ ],[ ] ] ] ]"
   ]
  },
  {
   "cell_type": "markdown",
   "metadata": {},
   "source": [
    "Écrire une fonction python récursive permettant d'obtenir, à partir du codage proposé ci dessous, un arbre représenté sous forme d'une liste comme défini dans l'exemple précédent."
   ]
  },
  {
   "cell_type": "code",
   "execution_count": null,
   "metadata": {
    "solution": "shown",
    "solution_first": true
   },
   "outputs": [],
   "source": [
    "def noeud(nom, fg = None, fd = None) :\n",
    "    return {'racine': nom, 'fg' : fg, 'fd': fd}\n",
    "\n",
    "\n",
    "k = noeud('k')\n",
    "f = noeud('f')\n",
    "e = noeud('e', k, None)\n",
    "b = noeud('b', e, f)\n",
    "m = noeud('m')\n",
    "j = noeud('j', m, None)\n",
    "i = noeud('i')\n",
    "d = noeud('d', i, j)\n",
    "h = noeud('h')\n",
    "c = noeud('c', None, h)\n",
    "a = noeud('a', c, d)\n",
    "racine = noeud('r', a, b)\n",
    "# Votre code ici ..."
   ]
  },
  {
   "cell_type": "code",
   "execution_count": null,
   "metadata": {
    "solution": "shown"
   },
   "outputs": [],
   "source": [
    "def noeud(nom, fg = None, fd = None) :\n",
    "    return {'racine': nom, 'fg' : fg, 'fd': fd}\n",
    "# création des noeuds\n",
    "k = noeud('k')\n",
    "f = noeud('f')\n",
    "e = noeud('e', k, None)\n",
    "b = noeud('b', e, f)\n",
    "m = noeud('m')\n",
    "j = noeud('j', m, None)\n",
    "i = noeud('i')\n",
    "d = noeud('d', i, j)\n",
    "h = noeud('h')\n",
    "c = noeud('c', None, h)\n",
    "a = noeud('a', c, d)\n",
    "racine = noeud('r', a, b)\n",
    "\n",
    "# création de l’arbre\n",
    "\n",
    "def construit(arbre) :\n",
    "    if arbre == None :\n",
    "        return []\n",
    "    else:\n",
    "        return [arbre['racine'],construit(arbre['fg']),construit(arbre['fd'])]\n",
    "    \n",
    "arbre_r=construit(racine)\n",
    "print(arbre_r)"
   ]
  },
  {
   "cell_type": "code",
   "execution_count": null,
   "metadata": {},
   "outputs": [],
   "source": [
    "['r', ['a', ['c', [], ['h', [], []]], ['d', ['i', [], []], ['j', ['m', [], []], []]]], ['b', ['e', ['k', [], []], []], ['f', [], []]]]"
   ]
  },
  {
   "cell_type": "markdown",
   "metadata": {
    "solution": "hidden"
   },
   "source": [
    "> Rappel : **Hauteur d'un arbre**<br>\n",
    "La hauteur d'un arbre est la plus grande profondeur d'une feuille de l'arbre.\n",
    "\n",
    "\n",
    "L'arbre limité à sa racine (un sommet sans fils) est de hauteur 0.<br>\n",
    "Pour calculer la hauteur d’un arbre, il faut parcourir toutes ses branches et retenir la profondeur de la feuille la plus éloignée.\n",
    "\n",
    "L’idée est la suivante :\n",
    "   * Si l’arbre est vide la hauteur vaut -1.\n",
    "   * Sinon la hauteur vaut 1 auquel il faut ajouter le maximum entre les hauteurs des sous-arbres gauche et droit.\n",
    "   * Ces sous-arbres sont eux mêmes des arbres dont il faut calculer la hauteur.\n",
    "\n",
    "**Une méthode récursive** semble tout à fait adaptée à la situation.\n",
    "\n",
    "Rappel Comme toute fonction **recursive**, il faut un cas de base qui ne nécessite pas le rappel de la fonction (sans quoi on aurait une boucle infinie).<br>\n",
    "Ce cas est l'absence de noeud, cela signifie que le noeud parent était une feuille, et renvoie -1 pour diminuer la hauteur accumulée de 1.<br>\n",
    "<br>\n",
    "A vous modifier la fonction ci-dessous afin de calculer la hauteur d'un arbre."
   ]
  },
  {
   "cell_type": "code",
   "execution_count": null,
   "metadata": {
    "solution": "hidden",
    "solution_first": true
   },
   "outputs": [],
   "source": [
    "def hauteur(arbre):\n",
    "    \"\"\"Fonction récursive renvoyant la hauteur d'un arbre\n",
    "    \n",
    "    Returns\n",
    "    -------\n",
    "    int\n",
    "        La hauteur de l'arbre\n",
    "    \"\"\"\n",
    "    # votre code\n",
    "        \n",
    "hauteur(mon_arbre)"
   ]
  },
  {
   "cell_type": "code",
   "execution_count": null,
   "metadata": {
    "solution": "hidden"
   },
   "outputs": [],
   "source": [
    "def hauteur(arbre) :\n",
    "    if arbre == [] :\n",
    "        return -1\n",
    "    else :\n",
    "        h1 = 1 + hauteur( arbre[1] )\n",
    "        h2 = 1 + hauteur( arbre[2] )\n",
    "        return max(h1, h2)\n",
    "    \n",
    "print(hauteur(arbre_r))    "
   ]
  },
  {
   "cell_type": "markdown",
   "metadata": {},
   "source": [
    "Vérifier la fonction \"hauteur\" avec l'arbre crée précedemment"
   ]
  },
  {
   "cell_type": "markdown",
   "metadata": {
    "solution": "hidden"
   },
   "source": [
    "> Rappel : **Taille d'un arbre** <br>\n",
    "La taille d'un arbre est son nombre de nœuds."
   ]
  },
  {
   "cell_type": "markdown",
   "metadata": {},
   "source": [
    "Encore une fois, nous allons utiliser une fonction recursive.<br>\n",
    "A chaque appel, au lieu d'utiliser le maximum comme précédemment on va simplement additionner les hauteurs des sous-arbres.\n",
    "<br>\n",
    "A vous de modifier la fonction ci-dessous afin de calculer la taille d'un arbre."
   ]
  },
  {
   "cell_type": "code",
   "execution_count": null,
   "metadata": {
    "solution": "shown",
    "solution_first": true
   },
   "outputs": [],
   "source": [
    "def taille(arbre):\n",
    "    \"\"\"Fonction récursive renvoyant la taille d'un arbre\n",
    "       \n",
    "    Returns\n",
    "    -------\n",
    "    int\n",
    "        La taille de l'arbre\n",
    "    \"\"\"\n",
    "   \n",
    "    # votre code\n",
    "  \n",
    "print(mon_arbre)\n",
    "print(\"taille\")\n",
    "taille(arbre)"
   ]
  },
  {
   "cell_type": "code",
   "execution_count": null,
   "metadata": {
    "solution": "shown"
   },
   "outputs": [],
   "source": [
    "def taille(arbre) :\n",
    "    if arbre == [] :\n",
    "        return -1\n",
    "    else :\n",
    "        h1 = 1 + hauteur( arbre[1] )\n",
    "        h2 = 1 + hauteur( arbre[2] )\n",
    "        return (h1+h2)\n",
    "\n",
    "print(hauteur(arbre_r))"
   ]
  }
 ],
 "metadata": {
  "hide_input": false,
  "kernelspec": {
   "display_name": "Python 3",
   "language": "python",
   "name": "python3"
  },
  "language_info": {
   "codemirror_mode": {
    "name": "ipython",
    "version": 3
   },
   "file_extension": ".py",
   "mimetype": "text/x-python",
   "name": "python",
   "nbconvert_exporter": "python",
   "pygments_lexer": "ipython3",
   "version": "3.8.0"
  },
  "latex_envs": {
   "LaTeX_envs_menu_present": true,
   "autoclose": false,
   "autocomplete": true,
   "bibliofile": "biblio.bib",
   "cite_by": "apalike",
   "current_citInitial": 1,
   "eqLabelWithNumbers": true,
   "eqNumInitial": 1,
   "hotkeys": {
    "equation": "Ctrl-E",
    "itemize": "Ctrl-I"
   },
   "labels_anchors": false,
   "latex_user_defs": false,
   "report_style_numbering": false,
   "user_envs_cfg": false
  }
 },
 "nbformat": 4,
 "nbformat_minor": 4
}
