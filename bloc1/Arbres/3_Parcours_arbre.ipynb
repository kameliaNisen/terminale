{
 "cells": [
  {
   "cell_type": "markdown",
   "metadata": {},
   "source": [
    "   # <div align=\"center\"> Parcours d'un arbre</div>"
   ]
  },
  {
   "cell_type": "markdown",
   "metadata": {},
   "source": [
    "Beaucoup d’algorithmes sur les arbres nécessitent de parcourir (traiter) tous les sommets.<br>\n",
    "par Exemple:<br>\n",
    "   * Tester l’existence d’une valeur particulière dans un arbre.\n",
    "   * Afficher un arbre.\n",
    "    \n",
    "Il existe une terminologie standard pour qualifier les parcours.<br>\n",
    "On peut parcourir de gauche à droite, ou de droite à gauche.<br>\n",
    "Une fois ce choix fait, on distingue les parcours<br>\n",
    "   * en largeur.\n",
    "   * en profondeur:\n",
    "       * préfixe,\n",
    "       * infixe,\n",
    "       * suffixe.\n"
   ]
  },
  {
   "cell_type": "markdown",
   "metadata": {},
   "source": [
    "## <div align=center>Parcourir en profondeur</div>"
   ]
  },
  {
   "cell_type": "markdown",
   "metadata": {},
   "source": [
    "## Parcours Préfixe"
   ]
  },
  {
   "cell_type": "markdown",
   "metadata": {},
   "source": [
    "![arbres](img/prefixe.png)\n",
    "\n",
    "on liste chaque sommet la première fois qu’on le rencontre dans la balade<br>\n",
    "On nomme le sommet la première fois qu'on passe à sa gauche.<br>\n",
    "Si le traitement d’un sommet consiste à l’afficher, on affichera dans l’ordre 3, 1, 5, 4, 2, 0.\n",
    "\n",
    "Dans cet ordre, chaque nœud est visité puis chacun de ses fils.\n",
    "\n",
    "Voici le pseudo-code:"
   ]
  },
  {
   "cell_type": "code",
   "execution_count": null,
   "metadata": {},
   "outputs": [],
   "source": [
    "ParcoursPréfixe ( Arbre binaire T de racine r )\n",
    "    Afficher clef [ r ]\n",
    "    ParcoursPréfixe ( Arbre de racine fils_gauche [r] )\n",
    "    ParcoursPréfixe ( Arbre de racine fils_droit [r] )\n",
    "      "
   ]
  },
  {
   "cell_type": "markdown",
   "metadata": {},
   "source": [
    "## Parcours Postfixe"
   ]
  },
  {
   "cell_type": "markdown",
   "metadata": {},
   "source": [
    "![arbres](img/postfixe.png)\n",
    "\n",
    "On affiche chaque nœud après avoir affiché chacun de ses fils.<br>\n",
    "En postfixe, on liste chaque sommet la dernière fois qu’on le rencontre.<br>\n",
    "On nomme le sommet la première fois qu'on passe à sa droite.\n",
    "\n",
    "Voici le pseudo-code extrait de l'article Wikipedia sur les arbres."
   ]
  },
  {
   "cell_type": "code",
   "execution_count": null,
   "metadata": {},
   "outputs": [],
   "source": [
    "ParcoursPos t fixe ( Arbre binai re T de racine r )\n",
    "ParcoursPos t fixe ( Arbre de racine fils _gauche [ r ] )\n",
    "ParcoursPos t fixe ( Arbre de racine f i l s _ d r o i t [ r ] )\n",
    "A f fich e r cl e f [ r ]"
   ]
  },
  {
   "cell_type": "markdown",
   "metadata": {},
   "source": [
    "## Parcours Infixe"
   ]
  },
  {
   "cell_type": "markdown",
   "metadata": {},
   "source": [
    "![arbres](img/infixe.png)\n",
    "\n",
    "On visite chaque nœud entre les nœuds de son sous-arbre de gauche et les nœuds de son sous-arbre de droite.<br>\n",
    "C'est une manière assez commune de parcourir un arbre binaire de recherche, car il donne les valeurs dans l'ordre croissant.<br>\n",
    "On peut considérer que l'on nomme le sommet une fois passé en dessous.\n",
    "Voici le pseudo-code extrait de l'article Wikipedia sur les arbres."
   ]
  },
  {
   "cell_type": "code",
   "execution_count": null,
   "metadata": {},
   "outputs": [],
   "source": [
    "visiterInfixe(Arbre A) :\n",
    "    Si nonVide(gauche(A))\n",
    "       visiterInfixe(gauche(A))\n",
    "    visiter(A)\n",
    "    Si nonVide(droite(A))\n",
    "       visiterInfixe(droite(A))"
   ]
  },
  {
   "cell_type": "markdown",
   "metadata": {},
   "source": [
    "## Parcourir en largeur"
   ]
  },
  {
   "cell_type": "markdown",
   "metadata": {},
   "source": [
    "Parcours en largeur d’abord.\n",
    "  * on parcourt par distance croissante à la racine.\n",
    "  \n",
    "![arbres](img/largeur.png)\n",
    "\n",
    "\n"
   ]
  },
  {
   "cell_type": "markdown",
   "metadata": {},
   "source": [
    "Si le traitement d’un sommet consiste à l’afficher, on affichera dans l’ordre 3, 1, 4, 5, 2, 0.<br>\n",
    "C’est peut-être le parcours le plus naturel, mais c’est le plus d´elicat à programmer avec les arbres binaires.\n",
    "<br>\n",
    "\n",
    "Voici le pseudo-code issu de l'article Wikipedia sur les arbres.\n",
    "Ce code n'est pas recursif et a la particularité d'utiliser une structure de file avec les méthodes enfiler et défiler."
   ]
  },
  {
   "cell_type": "code",
   "execution_count": null,
   "metadata": {},
   "outputs": [],
   "source": [
    "ParcoursLargeur(Arbre A) {\n",
    "   f = FileVide\n",
    "   enfiler(Racine(A), f)\n",
    "   Tant que (f != FileVide) {\n",
    "       nœud = defiler(f)\n",
    "       Visiter(nœud)                        //On choisit de faire une opération\n",
    "       Si (gauche(nœud) != null) Alors\n",
    "           enfiler(gauche(nœud), f)\n",
    "       Si (droite(nœud) != null) Alors\n",
    "           enfiler(droite(nœud), f)\n",
    "   }\n",
    "}"
   ]
  },
  {
   "cell_type": "markdown",
   "metadata": {},
   "source": [
    "Définir les parcours préfixe, infixe, et suffixe à l'arbre ci-dessous:\n",
    "![arbres](img/parcours.png)"
   ]
  },
  {
   "cell_type": "code",
   "execution_count": null,
   "metadata": {},
   "outputs": [],
   "source": []
  }
 ],
 "metadata": {
  "hide_input": false,
  "kernelspec": {
   "display_name": "Python 3",
   "language": "python",
   "name": "python3"
  },
  "language_info": {
   "codemirror_mode": {
    "name": "ipython",
    "version": 3
   },
   "file_extension": ".py",
   "mimetype": "text/x-python",
   "name": "python",
   "nbconvert_exporter": "python",
   "pygments_lexer": "ipython3",
   "version": "3.8.0"
  },
  "latex_envs": {
   "LaTeX_envs_menu_present": true,
   "autoclose": false,
   "autocomplete": true,
   "bibliofile": "biblio.bib",
   "cite_by": "apalike",
   "current_citInitial": 1,
   "eqLabelWithNumbers": true,
   "eqNumInitial": 1,
   "hotkeys": {
    "equation": "Ctrl-E",
    "itemize": "Ctrl-I"
   },
   "labels_anchors": false,
   "latex_user_defs": false,
   "report_style_numbering": false,
   "user_envs_cfg": false
  }
 },
 "nbformat": 4,
 "nbformat_minor": 4
}
