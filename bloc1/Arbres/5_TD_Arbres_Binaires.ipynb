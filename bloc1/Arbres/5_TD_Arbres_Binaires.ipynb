{
 "cells": [
  {
   "cell_type": "markdown",
   "metadata": {},
   "source": [
    "   # <div align=\"center\">TD Arbre binaire</div>"
   ]
  },
  {
   "cell_type": "markdown",
   "metadata": {},
   "source": [
    "Compléter la Classe **ArbreBinaire** définie ci-dessous:"
   ]
  },
  {
   "cell_type": "code",
   "execution_count": null,
   "metadata": {},
   "outputs": [],
   "source": [
    "class ArbreBinaire:\n",
    "   def __init__(self, valeur):\n",
    "      self.valeur = valeur\n",
    "      self.enfant_gauche = None\n",
    "      self.enfant_droit = None\n",
    "\n",
    "   def insert_gauche(self, valeur):\n",
    "      if self.enfant_gauche == None:\n",
    "         self.enfant_gauche = ArbreBinaire(valeur)\n",
    "      else:\n",
    "         new_node = ArbreBinaire(valeur)\n",
    "         new_node.enfant_gauche = self.enfant_gauche\n",
    "         self.enfant_gauche = new_node\n",
    "\n",
    "   def insert_droit(self, valeur):\n",
    "      '''Votre code ici'''\n",
    "        \n",
    "   def get_valeur(self):\n",
    "      return self.valeur\n",
    "\n",
    "   def get_gauche(self):\n",
    "     '''Votre code ici'''\n",
    "\n",
    "   def get_droit(self):\n",
    "      '''Votre code ici'''"
   ]
  },
  {
   "cell_type": "markdown",
   "metadata": {},
   "source": [
    "L'arbre sur lequel nous allons utiliser la classe **ArbreBinaire* est défini comme indiqué ci-dessous:\n",
    "\n",
    "('A', ('B', ('C', None, ('E', None, None)), ('D', None, None)), ('F', ('G', ('I', None, None), None), ('H', None, ('J', None, None))))\n",
    "\n",
    "Le code premettant de définir l'arbre a éte commencé, c'est a vous de le terminer."
   ]
  },
  {
   "cell_type": "code",
   "execution_count": null,
   "metadata": {},
   "outputs": [],
   "source": [
    "######début de la construction de l'arbre binaire###########\n",
    "\n",
    "racine = ArbreBinaire('A')\n",
    "racine.insert_gauche('B')\n",
    "racine.insert_droit('F')\n",
    "\n",
    "b_node = racine.get_gauche()\n",
    "b_node.insert_gauche('C')\n",
    "b_node.insert_droit('D')\n",
    "\n",
    "print(affiche(racine))"
   ]
  },
  {
   "cell_type": "markdown",
   "metadata": {},
   "source": [
    "Définir une fonction récursive permettant de calculer la taille de l'arbre"
   ]
  },
  {
   "cell_type": "code",
   "execution_count": null,
   "metadata": {},
   "outputs": [],
   "source": [
    "def taille(T)\n",
    "    if T == None:\n",
    "        return 0\n",
    "    '''Votre code'''\n",
    "\n",
    "print(taille(racine)))\n",
    "10"
   ]
  },
  {
   "cell_type": "markdown",
   "metadata": {},
   "source": [
    "Définir une fonction récursive permettant de calculer la profondeur de l'arbre"
   ]
  },
  {
   "cell_type": "code",
   "execution_count": null,
   "metadata": {},
   "outputs": [],
   "source": [
    "def profondeur(T):\n",
    "    if T == None :\n",
    "        return -1\n",
    "    '''Votre code '''\n",
    "\n",
    "print(profondeur(racine))\n",
    "3"
   ]
  },
  {
   "cell_type": "markdown",
   "metadata": {},
   "source": [
    "Crée une fonction nbfeuilles() permettant de calculer ne nombre de feuille de l'arbre.\n",
    ">Rappel une feuille est un noeud dans fils"
   ]
  },
  {
   "cell_type": "code",
   "execution_count": null,
   "metadata": {},
   "outputs": [],
   "source": [
    "def nbFeuille( T) :\n",
    "    if T == None:\n",
    "        return 0\n",
    "    elif .....\n",
    "    '''Votre code '''"
   ]
  }
 ],
 "metadata": {
  "hide_input": false,
  "kernelspec": {
   "display_name": "Python 3",
   "language": "python",
   "name": "python3"
  },
  "language_info": {
   "codemirror_mode": {
    "name": "ipython",
    "version": 3
   },
   "file_extension": ".py",
   "mimetype": "text/x-python",
   "name": "python",
   "nbconvert_exporter": "python",
   "pygments_lexer": "ipython3",
   "version": "3.8.0"
  },
  "latex_envs": {
   "LaTeX_envs_menu_present": true,
   "autoclose": false,
   "autocomplete": true,
   "bibliofile": "biblio.bib",
   "cite_by": "apalike",
   "current_citInitial": 1,
   "eqLabelWithNumbers": true,
   "eqNumInitial": 1,
   "hotkeys": {
    "equation": "Ctrl-E",
    "itemize": "Ctrl-I"
   },
   "labels_anchors": false,
   "latex_user_defs": false,
   "report_style_numbering": false,
   "user_envs_cfg": false
  }
 },
 "nbformat": 4,
 "nbformat_minor": 4
}
