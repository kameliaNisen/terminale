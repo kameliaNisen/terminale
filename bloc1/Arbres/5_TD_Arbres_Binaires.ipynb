{
 "cells": [
  {
   "cell_type": "markdown",
   "metadata": {},
   "source": [
    "   # <div align=\"center\">TD Arbre binaire</div>"
   ]
  },
  {
   "cell_type": "markdown",
   "metadata": {},
   "source": [
    "Compléter la Classe **ArbreBinaire** définie ci-dessous:"
   ]
  },
  {
   "cell_type": "code",
   "execution_count": null,
   "metadata": {},
   "outputs": [],
   "source": [
    "class ArbreBinaire:\n",
    "   def __init__(self, valeur):\n",
    "      self.valeur = valeur\n",
    "      self.enfant_gauche = None\n",
    "      self.enfant_droit = None\n",
    "\n",
    "   def insert_gauche(self, valeur):\n",
    "      if self.enfant_gauche == None:\n",
    "         self.enfant_gauche = ArbreBinaire(valeur)\n",
    "      else:\n",
    "         new_node = ArbreBinaire(valeur)\n",
    "         new_node.enfant_gauche = self.enfant_gauche\n",
    "         self.enfant_gauche = new_node\n",
    "\n",
    "   def insert_droit(self, valeur):\n",
    "      '''Votre code ici'''\n",
    "        \n",
    "   def get_valeur(self):\n",
    "      return self.valeur\n",
    "\n",
    "   def get_gauche(self):\n",
    "     '''Votre code ici'''\n",
    "\n",
    "   def get_droit(self):\n",
    "      '''Votre code ici'''"
   ]
  },
  {
   "cell_type": "markdown",
   "metadata": {},
   "source": [
    "L'arbre sur lequel nous allons utiliser la classe **ArbreBinaire** est défini comme indiqué ci-dessous:\n",
    "\n",
    "('A', ('B', ('C', None, ('E', None, None)), ('D', None, None)), ('F', ('G', ('I', None, None), None), ('H', None, ('J', None, None))))\n",
    "\n",
    "Le code premettant de définir l'arbre a éte commencé, c'est a vous de le terminer."
   ]
  },
  {
   "cell_type": "code",
   "execution_count": null,
   "metadata": {},
   "outputs": [],
   "source": [
    "######Construction de l'arbre binaire###########\n",
    "\n",
    "racine = ArbreBinaire('A')\n",
    "racine.insert_gauche('B')\n",
    "racine.insert_droit('F')\n",
    "\n",
    "b_node = racine.get_gauche()\n",
    "b_node.insert_gauche('C')\n",
    "b_node.insert_droit('D')\n",
    " '''Votre code'''\n",
    "    \n",
    "print(\"Affiche arbre : \")\n",
    "print(affiche(racine))"
   ]
  },
  {
   "cell_type": "markdown",
   "metadata": {},
   "source": [
    "Créer la fonction Affiche permettant de visualiser l'arbre"
   ]
  },
  {
   "cell_type": "code",
   "execution_count": null,
   "metadata": {},
   "outputs": [],
   "source": [
    "def affiche(arbre):\n",
    "    '''Votre code'''\n",
    "    \n",
    "print(\"Affiche arbre : \")\n",
    "print(affiche(racine))    "
   ]
  },
  {
   "cell_type": "code",
   "execution_count": null,
   "metadata": {},
   "outputs": [],
   "source": [
    "Affiche arbre : \n",
    "('A', ('B', ('C', None, ('E', None, None)), ('D', None, None)), ('F', ('G', ('I', None, None), None), ('H', None, ('J', None, None))))"
   ]
  },
  {
   "cell_type": "markdown",
   "metadata": {},
   "source": [
    "Définir une fonction récursive permettant de calculer la taille de l'arbre"
   ]
  },
  {
   "cell_type": "code",
   "execution_count": null,
   "metadata": {},
   "outputs": [],
   "source": [
    "def taille(arbre)\n",
    "    if arbre == None:\n",
    "        return 0\n",
    "    '''Votre code'''\n",
    "\n",
    "print(\"Taille arbre : \")\n",
    "print(taille(racine))"
   ]
  },
  {
   "cell_type": "code",
   "execution_count": null,
   "metadata": {},
   "outputs": [],
   "source": [
    "Taille arbre :\n",
    "10"
   ]
  },
  {
   "cell_type": "markdown",
   "metadata": {},
   "source": [
    "Définir une fonction récursive permettant de calculer la profondeur de l'arbre"
   ]
  },
  {
   "cell_type": "code",
   "execution_count": null,
   "metadata": {},
   "outputs": [],
   "source": [
    "def profondeur(arbre):\n",
    "    if arbre == None :\n",
    "        return -1\n",
    "    '''Votre code '''\n",
    "\n",
    "print(\"Profondeur arbre : \")\n",
    "print(profondeur(racine))"
   ]
  },
  {
   "cell_type": "code",
   "execution_count": null,
   "metadata": {},
   "outputs": [],
   "source": [
    "Profondeur arbre :\n",
    "3"
   ]
  },
  {
   "cell_type": "markdown",
   "metadata": {},
   "source": [
    "Crée une fonction nbfeuilles() permettant de calculer ne nombre de feuille de l'arbre.\n",
    ">Rappel une feuille est un noeud sans fils"
   ]
  },
  {
   "cell_type": "code",
   "execution_count": null,
   "metadata": {},
   "outputs": [],
   "source": [
    "def nbFeuille(arbre) :\n",
    "    if arbre == None:\n",
    "        return 0\n",
    "    elif .....\n",
    "    '''Votre code '''\n",
    "\n",
    "    print(\"nbfeuille : \")\n",
    "print(nbFeuille(racine))    "
   ]
  },
  {
   "cell_type": "code",
   "execution_count": null,
   "metadata": {},
   "outputs": [],
   "source": [
    "nbfeuille : \n",
    "4"
   ]
  },
  {
   "cell_type": "markdown",
   "metadata": {},
   "source": [
    "Creer la fonction permettant de réaliser le parcours préfixe."
   ]
  },
  {
   "cell_type": "code",
   "execution_count": null,
   "metadata": {},
   "outputs": [],
   "source": [
    "def parcoursPrefixe(arbre):\n",
    "    '''Votre code'''\n",
    "\n",
    "print(\"Parcours prefixe: \")\n",
    "parcoursPrefixe(racine)    "
   ]
  },
  {
   "cell_type": "markdown",
   "metadata": {},
   "source": [
    "**Parcours prefixe:**<br> \n",
    "A,B,C,E,D,F,G,I,H,J"
   ]
  },
  {
   "cell_type": "markdown",
   "metadata": {},
   "source": [
    "Creer la fonction permettant de réaliser le parcours postfixe."
   ]
  },
  {
   "cell_type": "code",
   "execution_count": null,
   "metadata": {},
   "outputs": [],
   "source": [
    "def parcoursPostfixe(arbre):\n",
    "        '''Votre code'''\n",
    "\n",
    "print(\"Parcours postfixe: \")\n",
    "parcoursPrefixe(racine)"
   ]
  },
  {
   "cell_type": "markdown",
   "metadata": {},
   "source": [
    "**Parcours postfixe:**<br>\n",
    "E,C,D,B,I,G,J,H,F,A"
   ]
  },
  {
   "cell_type": "markdown",
   "metadata": {},
   "source": [
    "Creer la fonction permettant de réaliser le parcours infixe."
   ]
  },
  {
   "cell_type": "code",
   "execution_count": null,
   "metadata": {},
   "outputs": [],
   "source": [
    "def parcoursInfixe(arbre):\n",
    "    '''Votre code'''\n",
    "\n",
    "print(\"Parcours infixe: \")\n",
    "parcoursInfixe(racine)    "
   ]
  },
  {
   "cell_type": "markdown",
   "metadata": {},
   "source": [
    "**Parcours infixe:** <br>\n",
    "C,E,B,D,A,I,G,F,H,J"
   ]
  },
  {
   "cell_type": "code",
   "execution_count": null,
   "metadata": {},
   "outputs": [],
   "source": [
    "Creer la fonction permettant de réaliser le parcours en largeur."
   ]
  },
  {
   "cell_type": "code",
   "execution_count": null,
   "metadata": {},
   "outputs": [],
   "source": [
    "def ParcoursLargeur(arbre):\n",
    "    fpile = []\n",
    "      '''Votre code'''\n",
    "        \n",
    "print(\"Parcours largeur: \")\n",
    "ParcoursLargeur(racine)        "
   ]
  },
  {
   "cell_type": "markdown",
   "metadata": {},
   "source": [
    "**Parcours largeur:**<br>\n",
    "A,B,F,C,D,G,H,E,I,J"
   ]
  },
  {
   "cell_type": "markdown",
   "metadata": {},
   "source": [
    "**Pour les plus rapides**<br>\n",
    "\n",
    "Ajouter une classe Noeud et modifier la classe ArbreBinaire afin de pouvoir créer l'arbre grâce à la classe Noeud.\n"
   ]
  },
  {
   "cell_type": "code",
   "execution_count": null,
   "metadata": {},
   "outputs": [],
   "source": [
    "class Noeud:\n",
    "    def __init__(self, valeur, gauche, droit):\n",
    "        self.r = valeur\n",
    "        self.g = gauche\n",
    "        self.d = droit"
   ]
  }
 ],
 "metadata": {
  "hide_input": false,
  "kernelspec": {
   "display_name": "Python 3",
   "language": "python",
   "name": "python3"
  },
  "language_info": {
   "codemirror_mode": {
    "name": "ipython",
    "version": 3
   },
   "file_extension": ".py",
   "mimetype": "text/x-python",
   "name": "python",
   "nbconvert_exporter": "python",
   "pygments_lexer": "ipython3",
   "version": "3.8.0"
  },
  "latex_envs": {
   "LaTeX_envs_menu_present": true,
   "autoclose": false,
   "autocomplete": true,
   "bibliofile": "biblio.bib",
   "cite_by": "apalike",
   "current_citInitial": 1,
   "eqLabelWithNumbers": true,
   "eqNumInitial": 1,
   "hotkeys": {
    "equation": "Ctrl-E",
    "itemize": "Ctrl-I"
   },
   "labels_anchors": false,
   "latex_user_defs": false,
   "report_style_numbering": false,
   "user_envs_cfg": false
  }
 },
 "nbformat": 4,
 "nbformat_minor": 4
}
